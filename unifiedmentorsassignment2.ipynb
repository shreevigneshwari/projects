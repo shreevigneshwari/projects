{
  "nbformat": 4,
  "nbformat_minor": 0,
  "metadata": {
    "colab": {
      "provenance": [],
      "authorship_tag": "ABX9TyM27xcpifH/qkCPa/4VNu4s",
      "include_colab_link": true
    },
    "kernelspec": {
      "name": "python3",
      "display_name": "Python 3"
    },
    "language_info": {
      "name": "python"
    }
  },
  "cells": [
    {
      "cell_type": "markdown",
      "metadata": {
        "id": "view-in-github",
        "colab_type": "text"
      },
      "source": [
        "<a href=\"https://colab.research.google.com/github/shreevigneshwari/projects/blob/main/unifiedmentorsassignment2.ipynb\" target=\"_parent\"><img src=\"https://colab.research.google.com/assets/colab-badge.svg\" alt=\"Open In Colab\"/></a>"
      ]
    },
    {
      "cell_type": "code",
      "execution_count": null,
      "metadata": {
        "colab": {
          "base_uri": "https://localhost:8080/"
        },
        "id": "uLaaOYdLaSbP",
        "outputId": "b10e7ca3-5a67-4a84-8a30-d115279a3b4b"
      },
      "outputs": [
        {
          "output_type": "stream",
          "name": "stdout",
          "text": [
            "My name is:\n",
            "Shree\n"
          ]
        }
      ],
      "source": [
        "# prompt: print what is your name next line shree\n",
        "\n",
        "print('My name is:')\n",
        "print('Shree')\n"
      ]
    },
    {
      "cell_type": "code",
      "source": [
        "mukesh = 7\n",
        "z = 6\n",
        "rohan = 5\n",
        "longitude = 4\n",
        "# print required variable\n",
        "# output - 5\n",
        "rohan"
      ],
      "metadata": {
        "colab": {
          "base_uri": "https://localhost:8080/"
        },
        "id": "ixAG7EicbTaW",
        "outputId": "081920c7-f6b6-4ff7-9dba-cabdc226c44e"
      },
      "execution_count": null,
      "outputs": [
        {
          "output_type": "execute_result",
          "data": {
            "text/plain": [
              "5"
            ]
          },
          "metadata": {},
          "execution_count": 5
        }
      ]
    },
    {
      "cell_type": "code",
      "source": [
        " #declare 4 variables with values as:\n",
        " ur_age = 21\n",
        " ur_weight = 50.6\n",
        "ur_first_name = \"Mukesh\"\n",
        "ur_last_name = \"Manral\""
      ],
      "metadata": {
        "id": "Wg_F_K-Tbjit"
      },
      "execution_count": null,
      "outputs": []
    },
    {
      "cell_type": "code",
      "source": [
        "# print type of ur_age,ur_weight,ur_first_name,ur_last_name variables\n",
        "type(ur_age)\n"
      ],
      "metadata": {
        "colab": {
          "base_uri": "https://localhost:8080/"
        },
        "id": "lBpW2jLMcMHh",
        "outputId": "6954497f-1b75-40ff-99ca-e8e62c082c6c"
      },
      "execution_count": null,
      "outputs": [
        {
          "output_type": "execute_result",
          "data": {
            "text/plain": [
              "int"
            ]
          },
          "metadata": {},
          "execution_count": 11
        }
      ]
    },
    {
      "cell_type": "code",
      "source": [
        "type(ur_weight)\n"
      ],
      "metadata": {
        "colab": {
          "base_uri": "https://localhost:8080/"
        },
        "id": "jHNtRyCicoik",
        "outputId": "b03d8a46-7a4c-4c2f-91ed-15db6ea93dd8"
      },
      "execution_count": null,
      "outputs": [
        {
          "output_type": "execute_result",
          "data": {
            "text/plain": [
              "float"
            ]
          },
          "metadata": {},
          "execution_count": 13
        }
      ]
    },
    {
      "cell_type": "code",
      "source": [
        "type(ur_first_name)\n"
      ],
      "metadata": {
        "colab": {
          "base_uri": "https://localhost:8080/"
        },
        "id": "yvXHaSIEdA7z",
        "outputId": "a4093b95-120e-4f24-89e5-d46941cb6689"
      },
      "execution_count": null,
      "outputs": [
        {
          "output_type": "execute_result",
          "data": {
            "text/plain": [
              "str"
            ]
          },
          "metadata": {},
          "execution_count": 14
        }
      ]
    },
    {
      "cell_type": "code",
      "source": [
        "type(ur_last_name)"
      ],
      "metadata": {
        "colab": {
          "base_uri": "https://localhost:8080/"
        },
        "id": "fe9CGZHpdDzi",
        "outputId": "8e80c32d-6bae-4e5f-c02b-572a5b24ddaf"
      },
      "execution_count": null,
      "outputs": [
        {
          "output_type": "execute_result",
          "data": {
            "text/plain": [
              "str"
            ]
          },
          "metadata": {},
          "execution_count": 15
        }
      ]
    },
    {
      "cell_type": "code",
      "source": [
        " #print values of ur_age,ur_weight,ur_first_name,ur_last_name variables\n",
        "ur_age"
      ],
      "metadata": {
        "colab": {
          "base_uri": "https://localhost:8080/"
        },
        "id": "KCnSElu3dFT-",
        "outputId": "5572d7ec-ed43-4359-822a-f29a95978bf3"
      },
      "execution_count": null,
      "outputs": [
        {
          "output_type": "execute_result",
          "data": {
            "text/plain": [
              "21"
            ]
          },
          "metadata": {},
          "execution_count": 16
        }
      ]
    },
    {
      "cell_type": "code",
      "source": [
        "ur_weight"
      ],
      "metadata": {
        "colab": {
          "base_uri": "https://localhost:8080/"
        },
        "id": "FPh3wZEbdbeC",
        "outputId": "21765ab3-46b7-45ff-b9c7-586f7761cad9"
      },
      "execution_count": null,
      "outputs": [
        {
          "output_type": "execute_result",
          "data": {
            "text/plain": [
              "50.6"
            ]
          },
          "metadata": {},
          "execution_count": 17
        }
      ]
    },
    {
      "cell_type": "code",
      "source": [
        "ur_first_name"
      ],
      "metadata": {
        "colab": {
          "base_uri": "https://localhost:8080/",
          "height": 35
        },
        "id": "X8J4vJJudeL-",
        "outputId": "54d8f995-dea5-46db-bbc5-34dc1bcb93e4"
      },
      "execution_count": null,
      "outputs": [
        {
          "output_type": "execute_result",
          "data": {
            "text/plain": [
              "'Mukesh'"
            ],
            "application/vnd.google.colaboratory.intrinsic+json": {
              "type": "string"
            }
          },
          "metadata": {},
          "execution_count": 20
        }
      ]
    },
    {
      "cell_type": "code",
      "source": [
        "ur_last_name"
      ],
      "metadata": {
        "colab": {
          "base_uri": "https://localhost:8080/",
          "height": 35
        },
        "id": "M3lANrtNdgPe",
        "outputId": "0ce1d62d-27b9-495b-94fe-619b8d005c40"
      },
      "execution_count": null,
      "outputs": [
        {
          "output_type": "execute_result",
          "data": {
            "text/plain": [
              "'Manral'"
            ],
            "application/vnd.google.colaboratory.intrinsic+json": {
              "type": "string"
            }
          },
          "metadata": {},
          "execution_count": 21
        }
      ]
    },
    {
      "cell_type": "code",
      "source": [
        "# define a variable name \"x\" and assign value 777 and print it\n",
        "x = 777\n",
        "print(x)"
      ],
      "metadata": {
        "colab": {
          "base_uri": "https://localhost:8080/"
        },
        "id": "Loi7nYs1drXt",
        "outputId": "4c886dfb-3ef6-4365-839a-384198bb6902"
      },
      "execution_count": null,
      "outputs": [
        {
          "output_type": "stream",
          "name": "stdout",
          "text": [
            "777\n"
          ]
        }
      ]
    },
    {
      "cell_type": "code",
      "source": [
        "# Initialize variables [x,y,z,zz] with values\n",
        "x = 7\n",
        "y = 77\n",
        "z = 77.7\n",
        "zz =\"Hi\"\n"
      ],
      "metadata": {
        "id": "RcR8MuIud96V"
      },
      "execution_count": null,
      "outputs": []
    },
    {
      "cell_type": "code",
      "source": [
        "x + z # add x and z"
      ],
      "metadata": {
        "colab": {
          "base_uri": "https://localhost:8080/"
        },
        "id": "5Tnn7g7DeeGY",
        "outputId": "d3f3639a-bb2e-4c5d-be8f-38570531b104"
      },
      "execution_count": null,
      "outputs": [
        {
          "output_type": "execute_result",
          "data": {
            "text/plain": [
              "84.7"
            ]
          },
          "metadata": {},
          "execution_count": 24
        }
      ]
    },
    {
      "cell_type": "code",
      "source": [
        "# subtract z and y\n",
        "z - y"
      ],
      "metadata": {
        "colab": {
          "base_uri": "https://localhost:8080/"
        },
        "id": "l8IclmyGepVy",
        "outputId": "9ebae3d9-36c3-4ec5-8418-79d5c7710f1c"
      },
      "execution_count": null,
      "outputs": [
        {
          "output_type": "execute_result",
          "data": {
            "text/plain": [
              "0.7000000000000028"
            ]
          },
          "metadata": {},
          "execution_count": 26
        }
      ]
    },
    {
      "cell_type": "code",
      "source": [
        "# Multiply x and z\n",
        "\n",
        "x * z"
      ],
      "metadata": {
        "colab": {
          "base_uri": "https://localhost:8080/"
        },
        "id": "nB4b7xWje5j8",
        "outputId": "370efc5b-3ba3-4690-c5f5-376fd4366273"
      },
      "execution_count": null,
      "outputs": [
        {
          "output_type": "execute_result",
          "data": {
            "text/plain": [
              "543.9"
            ]
          },
          "metadata": {},
          "execution_count": 27
        }
      ]
    },
    {
      "cell_type": "code",
      "source": [
        "# Exponent (raise the power or times) x times z\n",
        "x ** z"
      ],
      "metadata": {
        "colab": {
          "base_uri": "https://localhost:8080/"
        },
        "id": "oNHMhtwffCWr",
        "outputId": "4dbaded5-d603-4841-f89f-75fe8801ad1f"
      },
      "execution_count": null,
      "outputs": [
        {
          "output_type": "execute_result",
          "data": {
            "text/plain": [
              "4.614426248242042e+65"
            ]
          },
          "metadata": {},
          "execution_count": 28
        }
      ]
    },
    {
      "cell_type": "code",
      "source": [
        "# division on x and z\n",
        "x / z"
      ],
      "metadata": {
        "colab": {
          "base_uri": "https://localhost:8080/"
        },
        "id": "d42IIJd3fNC6",
        "outputId": "28f640f2-c4f5-4f83-a347-8c13f05038a3"
      },
      "execution_count": null,
      "outputs": [
        {
          "output_type": "execute_result",
          "data": {
            "text/plain": [
              "0.09009009009009009"
            ]
          },
          "metadata": {},
          "execution_count": 29
        }
      ]
    },
    {
      "cell_type": "code",
      "source": [
        "# floor division(ignores decimal) on x and z (gives quotient)\n",
        "int (x / z)"
      ],
      "metadata": {
        "colab": {
          "base_uri": "https://localhost:8080/"
        },
        "id": "uyT3EsuRfagh",
        "outputId": "59298e0f-a578-4fa9-86ee-f71e7e87a6e2"
      },
      "execution_count": null,
      "outputs": [
        {
          "output_type": "execute_result",
          "data": {
            "text/plain": [
              "0"
            ]
          },
          "metadata": {},
          "execution_count": 30
        }
      ]
    },
    {
      "cell_type": "code",
      "source": [
        "# Modulo(gives remainder) on x and z\n",
        "x % z"
      ],
      "metadata": {
        "colab": {
          "base_uri": "https://localhost:8080/"
        },
        "id": "CmHW9VMafmLo",
        "outputId": "3a82abfc-87eb-4a7a-97ec-4c9282c23c0c"
      },
      "execution_count": null,
      "outputs": [
        {
          "output_type": "execute_result",
          "data": {
            "text/plain": [
              "7.0"
            ]
          },
          "metadata": {},
          "execution_count": 31
        }
      ]
    },
    {
      "cell_type": "code",
      "source": [
        "# comapre and see if x is less then z\n",
        "# can use '<' symbol\n",
        "x < z"
      ],
      "metadata": {
        "colab": {
          "base_uri": "https://localhost:8080/"
        },
        "id": "SrFjO5hMfsyf",
        "outputId": "9a667fc4-c418-4f51-8c6f-bbe7b826a392"
      },
      "execution_count": null,
      "outputs": [
        {
          "output_type": "execute_result",
          "data": {
            "text/plain": [
              "True"
            ]
          },
          "metadata": {},
          "execution_count": 32
        }
      ]
    },
    {
      "cell_type": "code",
      "source": [
        "# compare and see if x is less then or equall to z\n",
        "# can use '<=' symbol\n",
        "x <= z"
      ],
      "metadata": {
        "colab": {
          "base_uri": "https://localhost:8080/"
        },
        "id": "mM94ETM7f4dG",
        "outputId": "1cd5bc99-6724-4664-95fa-2b857b253a46"
      },
      "execution_count": null,
      "outputs": [
        {
          "output_type": "execute_result",
          "data": {
            "text/plain": [
              "True"
            ]
          },
          "metadata": {},
          "execution_count": 33
        }
      ]
    },
    {
      "cell_type": "code",
      "source": [
        "# comapre and see if x equall to z\n",
        "# can use '==' symbol\n",
        "x == z"
      ],
      "metadata": {
        "colab": {
          "base_uri": "https://localhost:8080/"
        },
        "id": "s5tDCtiCgAZA",
        "outputId": "32c6bc46-87d5-4468-c394-c59679a39999"
      },
      "execution_count": null,
      "outputs": [
        {
          "output_type": "execute_result",
          "data": {
            "text/plain": [
              "False"
            ]
          },
          "metadata": {},
          "execution_count": 34
        }
      ]
    },
    {
      "cell_type": "code",
      "source": [
        "# comapre and see if x is greater than or equall to z\n",
        "# can use '>=' symbol\n",
        "x >= z"
      ],
      "metadata": {
        "colab": {
          "base_uri": "https://localhost:8080/"
        },
        "id": "Xg-dUYJSgJ4J",
        "outputId": "4e3996f1-cdb6-4f5a-884e-65fc0bb4a85f"
      },
      "execution_count": null,
      "outputs": [
        {
          "output_type": "execute_result",
          "data": {
            "text/plain": [
              "False"
            ]
          },
          "metadata": {},
          "execution_count": 35
        }
      ]
    },
    {
      "cell_type": "code",
      "source": [
        "# comapre and see if x is Not equall to z\n",
        "# can use '!=' symbol\n",
        "x != z"
      ],
      "metadata": {
        "colab": {
          "base_uri": "https://localhost:8080/"
        },
        "id": "WdADd9M7gRsK",
        "outputId": "dbd45296-90ae-404a-d29f-dd4f5da6cfe5"
      },
      "execution_count": null,
      "outputs": [
        {
          "output_type": "execute_result",
          "data": {
            "text/plain": [
              "True"
            ]
          },
          "metadata": {},
          "execution_count": 36
        }
      ]
    },
    {
      "cell_type": "code",
      "source": [
        "# compare if 108 is equall to 108, 21 is equall to 21 using logical and\n",
        "# equall to => '=='\n",
        "# logical and => and\n",
        "\n",
        "# in and both condition must be True to get a True\n",
        "(108 == 108)and(21==21)"
      ],
      "metadata": {
        "colab": {
          "base_uri": "https://localhost:8080/"
        },
        "id": "sntSTbI3gzA1",
        "outputId": "b8f8e9d1-3d31-4a36-8262-9a2ee344c099"
      },
      "execution_count": null,
      "outputs": [
        {
          "output_type": "execute_result",
          "data": {
            "text/plain": [
              "True"
            ]
          },
          "metadata": {},
          "execution_count": 38
        }
      ]
    },
    {
      "cell_type": "code",
      "source": [
        "# make variable with value as : money 100000\n",
        "\n",
        "# see output of money > 2000\n",
        "money = 100000\n",
        "money > 2000\n"
      ],
      "metadata": {
        "colab": {
          "base_uri": "https://localhost:8080/"
        },
        "id": "9eC-A1WzhaKE",
        "outputId": "8c312a5f-6728-40be-9751-721377a3909f"
      },
      "execution_count": null,
      "outputs": [
        {
          "output_type": "execute_result",
          "data": {
            "text/plain": [
              "True"
            ]
          },
          "metadata": {},
          "execution_count": 39
        }
      ]
    },
    {
      "cell_type": "code",
      "source": [
        "# assign money variable value of 10000\n",
        "##### say you have this much ammount in your account\n",
        "\n",
        "# start of if condition\n",
        "# if money is greater then 1000 which is data science course free\n",
        "# if money > 1000 is false i.e. you have less money then 1000 in your account then else will work for now only if is working\n",
        "money = 10000\n",
        "print(\"money in account=\")\n",
        "print(money)\n",
        "\n"
      ],
      "metadata": {
        "colab": {
          "base_uri": "https://localhost:8080/"
        },
        "id": "69VoYkvgiqsI",
        "outputId": "0b4ddffe-f2b7-4a49-d1d8-4cbef8a526de"
      },
      "execution_count": 42,
      "outputs": [
        {
          "output_type": "stream",
          "name": "stdout",
          "text": [
            "money in account=\n",
            "10000\n"
          ]
        }
      ]
    },
    {
      "cell_type": "code",
      "source": [
        "if(money>1000):\n",
        " print(\"data science course is free\")\n",
        "else:\n",
        " print(\"you have less money than 1000 in your account will work for now only\")"
      ],
      "metadata": {
        "colab": {
          "base_uri": "https://localhost:8080/"
        },
        "id": "flP9jV4Hjglm",
        "outputId": "5fe1ba7c-bac6-452a-917d-e03a4b16841e"
      },
      "execution_count": 45,
      "outputs": [
        {
          "output_type": "stream",
          "name": "stdout",
          "text": [
            "data science course is free\n"
          ]
        }
      ]
    },
    {
      "cell_type": "code",
      "source": [
        "# take a test_score variable with 80 in it.\n",
        "\n",
        "# if test_score greater then 80 then print A grade\n",
        "# elif test_score greater then 60 and less then 80 print B grade\n",
        "# else print Nothing for you\n",
        "test_score = 80\n",
        "if(test_score >= 80):\n",
        "  print(\"A grade\")\n",
        "elif(test_score > 60 and test_score < 80):\n",
        "  print(\"B grade\")\n",
        "else:\n",
        "  print(\"Nothing for you\")\n"
      ],
      "metadata": {
        "colab": {
          "base_uri": "https://localhost:8080/"
        },
        "id": "A5L0esMRkOLf",
        "outputId": "64fefa82-b662-43b7-ebf9-61200ab39d7b"
      },
      "execution_count": 51,
      "outputs": [
        {
          "output_type": "stream",
          "name": "stdout",
          "text": [
            "A grade\n"
          ]
        }
      ]
    },
    {
      "cell_type": "code",
      "source": [
        "for iterating_variable in range(10):\n",
        "    print(iterating_variable)\n",
        ""
      ],
      "metadata": {
        "colab": {
          "base_uri": "https://localhost:8080/"
        },
        "id": "StDEVnNEzxWh",
        "outputId": "4a0c3a4f-12ef-4249-bf16-8a7c06fca182"
      },
      "execution_count": 52,
      "outputs": [
        {
          "output_type": "stream",
          "name": "stdout",
          "text": [
            "0\n",
            "1\n",
            "2\n",
            "3\n",
            "4\n",
            "5\n",
            "6\n",
            "7\n",
            "8\n",
            "9\n"
          ]
        }
      ]
    },
    {
      "cell_type": "code",
      "source": [
        "# print 'I love sports' 10 times using for loop\n",
        "\n"
      ],
      "metadata": {
        "id": "VKg-fGRk2Awi"
      },
      "execution_count": 53,
      "outputs": []
    },
    {
      "cell_type": "code",
      "source": [
        "\n",
        "\n",
        "for i in range(10):\n",
        "    print('I love sports')\n"
      ],
      "metadata": {
        "colab": {
          "base_uri": "https://localhost:8080/"
        },
        "id": "4-KeYzL72THQ",
        "outputId": "e28ecebb-a0a6-4e3f-b1e7-8fe253ce50e3"
      },
      "execution_count": 56,
      "outputs": [
        {
          "output_type": "stream",
          "name": "stdout",
          "text": [
            "I love sports\n",
            "I love sports\n",
            "I love sports\n",
            "I love sports\n",
            "I love sports\n",
            "I love sports\n",
            "I love sports\n",
            "I love sports\n",
            "I love sports\n",
            "I love sports\n"
          ]
        }
      ]
    },
    {
      "cell_type": "code",
      "source": [
        "# while loop\n",
        "\n",
        "# save 0 in variable number\n",
        "\n",
        "# print till 10 using while loop\n",
        "# Set the initial value of the counter\n",
        "counter = 0\n",
        "\n",
        "# Loop while the counter is less than or equal to 10\n",
        "while counter <= 10:\n",
        "    print(counter)\n",
        "    counter += 1  # Increment the counter by 1 in each iteration\n"
      ],
      "metadata": {
        "colab": {
          "base_uri": "https://localhost:8080/"
        },
        "id": "NvMt6p_O5MEg",
        "outputId": "4c645ecb-ca7f-4437-cbc5-a4b8119b679f"
      },
      "execution_count": 57,
      "outputs": [
        {
          "output_type": "stream",
          "name": "stdout",
          "text": [
            "0\n",
            "1\n",
            "2\n",
            "3\n",
            "4\n",
            "5\n",
            "6\n",
            "7\n",
            "8\n",
            "9\n",
            "10\n"
          ]
        }
      ]
    },
    {
      "cell_type": "code",
      "source": [
        "# example that uses break statement in a for loop\n",
        "\n",
        "# take range(10) and print 'The number is' + value\n",
        "# break when num equals 5\n",
        "for num in range(10):\n",
        "    print('The number is', num)\n",
        "    if num == 5:\n",
        "        break\n",
        "\n",
        "\n"
      ],
      "metadata": {
        "colab": {
          "base_uri": "https://localhost:8080/"
        },
        "id": "p8SRC5H-5tfs",
        "outputId": "9a8f5a17-3a05-41e7-ce05-19e8c1982efb"
      },
      "execution_count": 58,
      "outputs": [
        {
          "output_type": "stream",
          "name": "stdout",
          "text": [
            "The number is 0\n",
            "The number is 1\n",
            "The number is 2\n",
            "The number is 3\n",
            "The number is 4\n",
            "The number is 5\n"
          ]
        }
      ]
    },
    {
      "cell_type": "code",
      "source": [
        "# Using same `for loop program` as in Break Statement section above\n",
        "# Use a continue statement rather than a break statement\n",
        "\n",
        "# take range(10) and print 'The number is' + value\n",
        "# continue when num equals 5\n",
        "for num in range(10):\n",
        "    if num > 5:\n",
        "        continue\n",
        "    print('The number is', num)\n"
      ],
      "metadata": {
        "colab": {
          "base_uri": "https://localhost:8080/"
        },
        "id": "-voDr1lq6MQp",
        "outputId": "d70ad94a-59f4-4ecf-eb5a-41bab8bd69f5"
      },
      "execution_count": 63,
      "outputs": [
        {
          "output_type": "stream",
          "name": "stdout",
          "text": [
            "The number is 0\n",
            "The number is 1\n",
            "The number is 2\n",
            "The number is 3\n",
            "The number is 4\n",
            "The number is 5\n"
          ]
        }
      ]
    },
    {
      "cell_type": "code",
      "source": [
        "# define a string variable with \"We are creating next generation data science eco-system at CollegeRanker\"\n",
        "a = \"We are creating next generation data science eco-system at CollegeRanker\""
      ],
      "metadata": {
        "id": "n87xhX3I6Z6l"
      },
      "execution_count": 66,
      "outputs": []
    },
    {
      "cell_type": "code",
      "source": [
        "len(a)"
      ],
      "metadata": {
        "colab": {
          "base_uri": "https://localhost:8080/"
        },
        "id": "M790IB3m7LWD",
        "outputId": "866fe240-27e1-48c1-e222-69c30b747714"
      },
      "execution_count": 67,
      "outputs": [
        {
          "output_type": "execute_result",
          "data": {
            "text/plain": [
              "72"
            ]
          },
          "metadata": {},
          "execution_count": 67
        }
      ]
    },
    {
      "cell_type": "code",
      "source": [
        "#Access characters in a string with indexing i.e string[0]\n",
        "a[0]"
      ],
      "metadata": {
        "colab": {
          "base_uri": "https://localhost:8080/",
          "height": 35
        },
        "id": "FD5dMWTL7bBD",
        "outputId": "05d74a50-d12b-4e89-ce17-65567d92f56c"
      },
      "execution_count": 69,
      "outputs": [
        {
          "output_type": "execute_result",
          "data": {
            "text/plain": [
              "'W'"
            ],
            "application/vnd.google.colaboratory.intrinsic+json": {
              "type": "string"
            }
          },
          "metadata": {},
          "execution_count": 69
        }
      ]
    },
    {
      "cell_type": "code",
      "source": [
        "# Access characters with negative indexing i.e string[-1]\n",
        "a[-1]"
      ],
      "metadata": {
        "colab": {
          "base_uri": "https://localhost:8080/",
          "height": 35
        },
        "id": "ocnLkNKG7y8F",
        "outputId": "9a1642aa-0154-4998-9cd0-42db23e4e297"
      },
      "execution_count": 70,
      "outputs": [
        {
          "output_type": "execute_result",
          "data": {
            "text/plain": [
              "'r'"
            ],
            "application/vnd.google.colaboratory.intrinsic+json": {
              "type": "string"
            }
          },
          "metadata": {},
          "execution_count": 70
        }
      ]
    },
    {
      "cell_type": "code",
      "source": [
        "# select string from first to 6th element i.e string[:6]\n",
        "substring = a[:6]\n",
        "print(substring)"
      ],
      "metadata": {
        "colab": {
          "base_uri": "https://localhost:8080/"
        },
        "id": "cc6zBdiH7_v9",
        "outputId": "5c282c24-9f1e-40a4-f33e-7dd26b43443d"
      },
      "execution_count": 73,
      "outputs": [
        {
          "output_type": "stream",
          "name": "stdout",
          "text": [
            "We are\n"
          ]
        }
      ]
    },
    {
      "cell_type": "code",
      "source": [
        "# select string from 7th to negative 10th element i.e string[7:-10]\n",
        "print(a[7:-10])"
      ],
      "metadata": {
        "colab": {
          "base_uri": "https://localhost:8080/"
        },
        "id": "R20Bdtnu8mUM",
        "outputId": "2ca78202-c06d-4b40-9f31-a11d40222f94"
      },
      "execution_count": 74,
      "outputs": [
        {
          "output_type": "stream",
          "name": "stdout",
          "text": [
            "creating next generation data science eco-system at Col\n"
          ]
        }
      ]
    },
    {
      "cell_type": "code",
      "source": [
        "# .find() => if present it will return starting index, not found then it will return -1\n",
        "# Define a string\n",
        "my_string = \"Hello, world!\"\n",
        "\n",
        "# Find the index of substring \"world\" within my_string\n",
        "index = my_string.find(\"world\")\n",
        "\n",
        "# Check if substring found or not\n",
        "if index != -1:\n",
        "    print(\"Substring found at index:\", index)\n",
        "else:\n",
        "    print(\"Substring not found:\")\n",
        "\n",
        "\n"
      ],
      "metadata": {
        "colab": {
          "base_uri": "https://localhost:8080/"
        },
        "id": "8t-kdBAp85hM",
        "outputId": "4e35676b-5685-4392-b01b-cd2c0ff15211"
      },
      "execution_count": 76,
      "outputs": [
        {
          "output_type": "stream",
          "name": "stdout",
          "text": [
            "Substring found at index: 7\n"
          ]
        }
      ]
    },
    {
      "cell_type": "code",
      "source": [
        "# .index() => if present it will return starting index, not found then it will give error\n",
        "# Define a string\n",
        "my_string = \"Hello, world!\"\n",
        "\n",
        "try:\n",
        "    # Find the index of substring \"world\" within my_string\n",
        "    index = my_string.index(\"world\")\n",
        "    print(\"Substring found at index:\", index)\n",
        "except ValueError:\n",
        "    print(\"Substring not found\")\n"
      ],
      "metadata": {
        "colab": {
          "base_uri": "https://localhost:8080/"
        },
        "id": "VDt_X_wx9scS",
        "outputId": "16aac499-6ef9-43a5-a0e4-7d2095c339a7"
      },
      "execution_count": 77,
      "outputs": [
        {
          "output_type": "stream",
          "name": "stdout",
          "text": [
            "Substring found at index: 7\n"
          ]
        }
      ]
    },
    {
      "cell_type": "code",
      "source": [
        "# Define your string\n",
        "my_string = \"Hello, World!\"\n",
        "\n",
        "# Convert the string to uppercase\n",
        "uppercase_string = my_string.upper()\n",
        "\n",
        "# Print the result\n",
        "print(uppercase_string)\n"
      ],
      "metadata": {
        "colab": {
          "base_uri": "https://localhost:8080/"
        },
        "id": "DzxPjUbX-kYj",
        "outputId": "57c9eac0-7b19-4614-8078-a992f2decfdd"
      },
      "execution_count": 81,
      "outputs": [
        {
          "output_type": "stream",
          "name": "stdout",
          "text": [
            "HELLO, WORLD!\n"
          ]
        }
      ]
    },
    {
      "cell_type": "code",
      "source": [
        "### Checking if string is in lower case or upper case\n",
        "# Define your string\n",
        "my_string = \"hello, world!\"\n",
        "\n",
        "# Check if the string is in uppercase\n",
        "is_uppercase = my_string.isupper()\n",
        "\n",
        "# Check if the string is in lowercase\n",
        "is_lowercase = my_string.islower()\n",
        "\n",
        "# Print the results\n",
        "print(f\"The string is in uppercase: {is_uppercase}\")\n",
        "print(f\"The string is in lowercase: {is_lowercase}\")\n"
      ],
      "metadata": {
        "colab": {
          "base_uri": "https://localhost:8080/"
        },
        "id": "7fO_b6J7_fdp",
        "outputId": "b61d9cbf-a4a1-45b2-8bdb-2ff92126f734"
      },
      "execution_count": 84,
      "outputs": [
        {
          "output_type": "stream",
          "name": "stdout",
          "text": [
            "The string is in uppercase: False\n",
            "The string is in lowercase: True\n"
          ]
        }
      ]
    },
    {
      "cell_type": "code",
      "source": [
        "### Checking if string is digit, alpabetic, alpha-numeric\n",
        "# Define your string\n",
        "my_string = \"Hello123\"\n",
        "\n",
        "# Check if the string is composed of digits\n",
        "is_digit = my_string.isdigit()\n",
        "\n",
        "# Check if the string is composed of alphabetic characters\n",
        "is_alpha = my_string.isalpha()\n",
        "\n",
        "# Check if the string is composed of alphanumeric characters\n",
        "is_alnum = my_string.isalnum()\n",
        "\n",
        "# Print the results\n",
        "print(f\"The string is composed of digits only: {is_digit}\")\n",
        "print(f\"The string is composed of alphabetic characters only: {is_alpha}\")\n",
        "print(f\"The string is composed of alphanumeric characters: {is_alnum}\")\n"
      ],
      "metadata": {
        "colab": {
          "base_uri": "https://localhost:8080/"
        },
        "id": "y2VBSi-R_1Vj",
        "outputId": "ce6b6ee0-02fb-43b6-ca2f-a5787d9e87cc"
      },
      "execution_count": 85,
      "outputs": [
        {
          "output_type": "stream",
          "name": "stdout",
          "text": [
            "The string is composed of digits only: False\n",
            "The string is composed of alphabetic characters only: False\n",
            "The string is composed of alphanumeric characters: True\n"
          ]
        }
      ]
    },
    {
      "cell_type": "code",
      "source": [
        "# assign \"C++ is easy to learn\" to a new_str variable\n",
        "# Assign the string to the variable\n",
        "new_str = \"C++ is easy to learn\"\n",
        "\n",
        "# Print the variable to verify the assignment\n",
        "print(new_str)\n"
      ],
      "metadata": {
        "colab": {
          "base_uri": "https://localhost:8080/"
        },
        "id": "894ORx5EARcC",
        "outputId": "be6122f3-3878-4abd-e939-9a8a30675bf9"
      },
      "execution_count": 86,
      "outputs": [
        {
          "output_type": "stream",
          "name": "stdout",
          "text": [
            "C++ is easy to learn\n"
          ]
        }
      ]
    },
    {
      "cell_type": "code",
      "source": [
        "### Replace C++ with Python\n",
        "# Assign the original string to the variable\n",
        "new_str = \"C++ is easy to learn\"\n",
        "\n",
        "# Replace \"C++\" with \"Python\"\n",
        "new_str = new_str.replace(\"C++\", \"Python\")\n",
        "\n",
        "# Print the new string to verify the replacement\n",
        "print(new_str)\n"
      ],
      "metadata": {
        "colab": {
          "base_uri": "https://localhost:8080/"
        },
        "id": "zNHY85MDAeTO",
        "outputId": "090f2c1a-1e9a-42a0-845c-a7d42d5e4bdb"
      },
      "execution_count": 87,
      "outputs": [
        {
          "output_type": "stream",
          "name": "stdout",
          "text": [
            "Python is easy to learn\n"
          ]
        }
      ]
    },
    {
      "cell_type": "code",
      "source": [
        "### Use Split function on new_str ###\n",
        "# Assign the original string to the variable\n",
        "new_str = \"C++ is easy to learn\"\n",
        "\n",
        "# Replace \"C++\" with \"Python\"\n",
        "new_str = new_str.replace(\"C++\", \"Python\")\n",
        "\n",
        "# Use the split function to split the string into a list of words\n",
        "split_str = new_str.split()\n",
        "\n",
        "# Print the list to verify the split\n",
        "print(split_str)\n"
      ],
      "metadata": {
        "colab": {
          "base_uri": "https://localhost:8080/"
        },
        "id": "JOLjfCxzAyM7",
        "outputId": "4f09eb90-bf9e-4a74-f5c0-bd522c3a0fe0"
      },
      "execution_count": 88,
      "outputs": [
        {
          "output_type": "stream",
          "name": "stdout",
          "text": [
            "['Python', 'is', 'easy', 'to', 'learn']\n"
          ]
        }
      ]
    },
    {
      "cell_type": "code",
      "source": [
        "# define a function with welcome_message(name) and body 'Welcome to Functions !!!'\n",
        "# Define the function\n",
        "def welcome_message(name):\n",
        "    # Print the welcome message\n",
        "    print(\"Welcome to Functions !!!\")\n",
        "\n",
        "# Call the function with a sample name to verify\n",
        "welcome_message(\"Alice\")\n"
      ],
      "metadata": {
        "colab": {
          "base_uri": "https://localhost:8080/"
        },
        "id": "pIFHi8oWBJor",
        "outputId": "60f83117-0ba1-410b-dc7e-7bbea03cd8f4"
      },
      "execution_count": 89,
      "outputs": [
        {
          "output_type": "stream",
          "name": "stdout",
          "text": [
            "Welcome to Functions !!!\n"
          ]
        }
      ]
    },
    {
      "cell_type": "code",
      "source": [
        "# call a function with your name\n",
        "welcome_message(\"shree\")"
      ],
      "metadata": {
        "colab": {
          "base_uri": "https://localhost:8080/"
        },
        "id": "w-W8-EGsCY2j",
        "outputId": "221f895e-cc19-4590-f6bc-afea9b2efb7d"
      },
      "execution_count": 90,
      "outputs": [
        {
          "output_type": "stream",
          "name": "stdout",
          "text": [
            "Welcome to Functions !!!\n"
          ]
        }
      ]
    },
    {
      "cell_type": "code",
      "source": [
        "## Create subtraction_function(small_number,large_number) and return difference between large_number and small_number"
      ],
      "metadata": {
        "id": "0jAM29JBCiQ7"
      },
      "execution_count": 91,
      "outputs": []
    },
    {
      "cell_type": "code",
      "source": [
        "# Define the function\n",
        "def subtraction_function(small_number, large_number):\n",
        "    # Calculate the difference\n",
        "    difference = large_number - small_number\n",
        "    # Return the difference\n",
        "    return difference\n",
        "\n",
        "# Call the function with sample numbers to verify\n",
        "result = subtraction_function(5, 15)\n",
        "print(result)  # This should print 10\n"
      ],
      "metadata": {
        "colab": {
          "base_uri": "https://localhost:8080/"
        },
        "id": "9C7X81jXCtbx",
        "outputId": "6574946e-0798-4f13-ab2e-2765d1638b76"
      },
      "execution_count": 92,
      "outputs": [
        {
          "output_type": "stream",
          "name": "stdout",
          "text": [
            "10\n"
          ]
        }
      ]
    },
    {
      "cell_type": "code",
      "source": [
        "#Observe every output from here onwords #####\n",
        "# defining a global variable\n",
        "global_variable = 'variable outside of function'\n",
        "\n",
        "# defining function\n",
        "def random_function():\n",
        "    # accessing variable which is outside of this function\n",
        "    return global_variable"
      ],
      "metadata": {
        "id": "ky57qb07Dg47"
      },
      "execution_count": 93,
      "outputs": []
    },
    {
      "cell_type": "code",
      "source": [
        "print(random_function())\n",
        "print(global_variable)"
      ],
      "metadata": {
        "colab": {
          "base_uri": "https://localhost:8080/"
        },
        "id": "mbitFOkWD9Z_",
        "outputId": "417eb7ce-f1d5-4967-d5c0-eb43ece17c9d"
      },
      "execution_count": 95,
      "outputs": [
        {
          "output_type": "stream",
          "name": "stdout",
          "text": [
            "variable outside of function\n",
            "variable outside of function\n"
          ]
        }
      ]
    },
    {
      "cell_type": "code",
      "source": [
        "#Observe every output from here onwords #####\n",
        "# defining a global variable\n",
        "global_variable = 'variable outside of function'\n",
        "\n",
        "# defining function\n",
        "def random_function():\n",
        "    # changing value of global variable from inside of the function\n",
        "    local_variable = 'changing variable inside of function'\n",
        "    # accessing variable which is outside of this function\n",
        "    return local_variable"
      ],
      "metadata": {
        "id": "Ly9kPlYtEGI9"
      },
      "execution_count": 97,
      "outputs": []
    },
    {
      "cell_type": "code",
      "source": [
        "print(random_function())\n",
        "print(global_variable)"
      ],
      "metadata": {
        "colab": {
          "base_uri": "https://localhost:8080/"
        },
        "id": "qB5AO_7_EnNM",
        "outputId": "9604a091-ac9c-4395-bf7b-4ce9144ec2cc"
      },
      "execution_count": 98,
      "outputs": [
        {
          "output_type": "stream",
          "name": "stdout",
          "text": [
            "changing variable inside of function\n",
            "variable outside of function\n"
          ]
        }
      ]
    },
    {
      "cell_type": "code",
      "source": [],
      "metadata": {
        "id": "G7lhrkHNEs3C"
      },
      "execution_count": null,
      "outputs": []
    }
  ]
}